{
 "cells": [
  {
   "cell_type": "markdown",
   "id": "3a5a976b-8bf7-4a33-9e35-8e99c9e9ded5",
   "metadata": {},
   "source": [
    "### Data calibration on UHF band using the `museek` pipeline\n",
    "\n",
    "### Overview\n",
    "*Name:* Topollo Naketsana                   \n",
    "\n"
   ]
  },
  {
   "cell_type": "code",
   "execution_count": null,
   "id": "4745e054-60b9-4e68-8656-d6b2ca755079",
   "metadata": {},
   "outputs": [],
   "source": [
    "!pip install museek"
   ]
  },
  {
   "cell_type": "code",
   "execution_count": 31,
   "id": "c4416209-c624-4f27-b703-70c5c1823888",
   "metadata": {},
   "outputs": [],
   "source": [
    "import random\n",
    "import gc\n",
    "#import pysm\n",
    "import numpy as np\n",
    "from scipy.stats import spearmanr\n",
    "import matplotlib.pyplot as plt\n",
    "import astropy.units as u\n",
    "from astropy.coordinates import SkyCoord\n",
    "import astropy.coordinates as ac\n",
    "from astropy.wcs.utils import skycoord_to_pixel\n",
    "from astropy.wcs import WCS\n",
    "import healpy as hp\n",
    "\n",
    "#import museek.util.tools as tl"
   ]
  },
  {
   "cell_type": "code",
   "execution_count": null,
   "id": "bc859624-bbc2-45e4-ba9c-dc015be8fa0d",
   "metadata": {},
   "outputs": [],
   "source": []
  },
  {
   "cell_type": "code",
   "execution_count": null,
   "id": "73ffa02d-fa8d-41bd-9528-07b25ada5ed2",
   "metadata": {},
   "outputs": [],
   "source": []
  },
  {
   "cell_type": "code",
   "execution_count": null,
   "id": "d830f734-8fe9-4457-aa09-3f93705703b8",
   "metadata": {},
   "outputs": [],
   "source": []
  }
 ],
 "metadata": {
  "kernelspec": {
   "display_name": "ASTRO-PY3 (Python 3.10)",
   "language": "python",
   "name": "astro-py3.10"
  },
  "language_info": {
   "codemirror_mode": {
    "name": "ipython",
    "version": 3
   },
   "file_extension": ".py",
   "mimetype": "text/x-python",
   "name": "python",
   "nbconvert_exporter": "python",
   "pygments_lexer": "ipython3",
   "version": "3.10.4"
  }
 },
 "nbformat": 4,
 "nbformat_minor": 5
}
